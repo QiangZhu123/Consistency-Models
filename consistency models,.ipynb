{
 "cells": [
  {
   "cell_type": "code",
   "execution_count": 32,
   "id": "5c72ed82",
   "metadata": {},
   "outputs": [],
   "source": [
    "import torch\n",
    "from torch import nn\n",
    "from Unet import UNet\n",
    "import torch.nn.functional  as F\n",
    "from torchvision.transforms import Compose\n",
    "from torchvision import transforms\n",
    "from torchvision.datasets import ImageFolder\n",
    "from torch.utils.data import Dataset,DataLoader\n",
    "from utils import *"
   ]
  },
  {
   "cell_type": "code",
   "execution_count": null,
   "id": "f81e45a8",
   "metadata": {},
   "outputs": [],
   "source": [
    "#数据路劲，每个类一个文件夹的形式方便使用\n",
    "path = '/kaggle/input/cat-dataset'"
   ]
  },
  {
   "cell_type": "code",
   "execution_count": null,
   "id": "74ddc18b",
   "metadata": {},
   "outputs": [],
   "source": [
    "#大小看速度要求\n",
    "pipe = Compose([transforms.Resize([224,224]),\n",
    "               transforms.ToTensor(),\n",
    "               ])\n",
    "\n",
    "dataset = ImageFolder(path,\n",
    "                      transform=pipe,\n",
    "                      )\n",
    "dataloader = DataLoader(dataset,\n",
    "                        batch_size=32,#看设备需求\n",
    "                        shuffle=True,\n",
    "                        pin_memory=True)"
   ]
  },
  {
   "cell_type": "markdown",
   "id": "1ca44488",
   "metadata": {},
   "source": [
    "# CT"
   ]
  },
  {
   "cell_type": "code",
   "execution_count": 39,
   "id": "f99c8692",
   "metadata": {},
   "outputs": [],
   "source": [
    "#这些参数可调节\n",
    "s_0=1 \n",
    "s_1= 100\n",
    "\n",
    "u_0=torch.tensor(0.99)   #ema初始化系数\n",
    "k=0          \n",
    "N=100      #时间分割步数\n",
    "K= 1000    #训练次数  \n",
    "\n",
    "def N_(k):\n",
    "    a =torch.floor( torch.sqrt( k/K *(  (s_1 +1)**2  -  s_0**2   )    +  s_0**2)     -   1)\n",
    "    return 1+a\n",
    "def mu(k):\n",
    "    return torch.exp(s_0 * torch.log(u_0)/N(k))\n",
    "lam=1  #这个是样本损失，也可以做成函数\n",
    "T=80   #论文设置\n",
    "phi = 7  \n",
    "eps= 0.002\n",
    "i=torch.arange(1,N+1)\n",
    "t =( eps**(1.0/phi)  +  (i-1)/(N-1)*(T**(1.0/phi) -  eps**(1.0/phi) )  )**(phi)\n",
    "t[0]=eps"
   ]
  },
  {
   "cell_type": "code",
   "execution_count": null,
   "id": "15445125",
   "metadata": {},
   "outputs": [],
   "source": [
    "online_network = UNet(3,3)                 \n",
    "target_network = UNet(3,3)  \n",
    "target_network.load_state_dict(online_network.state_dict())"
   ]
  },
  {
   "cell_type": "code",
   "execution_count": null,
   "id": "1cb22466",
   "metadata": {},
   "outputs": [],
   "source": [
    "optimizer = torch.optim.Adam(online_network.parameters(),lr=0.001,weight_decay=0.99)\n",
    "learn_scheduler = torch.optim.lr_scheduler.CosineAnnealingLR(optimizer,T_max=10)"
   ]
  },
  {
   "cell_type": "code",
   "execution_count": null,
   "id": "558fd6c9",
   "metadata": {},
   "outputs": [],
   "source": [
    "while k < K:\n",
    "    print(f'the {k} of all {K}')\n",
    "    for data in dataloader:\n",
    "        optimizer.zero_grad()\n",
    "        image,_ =data\n",
    "        bs = image.shape[0]\n",
    "        n = torch.randint(low=1,high=N_(k)+1,size=(bs,1,1,1))\n",
    "        shape = image.shape\n",
    "        z = torch.rand(*shape)\n",
    "        output = online_network(image+ t[n+1]*z,t[n+1])\n",
    "        with torch.no_grad():\n",
    "            output_min = target_network(image+ t[n]*z,t[n])\n",
    "            \n",
    "        loss = torch.sum((output - output_min.detach())**2)\n",
    "        loss.backward()\n",
    "        optimizer.step()\n",
    "        m = mu(k)\n",
    "        update(target_network,online_network,m)\n",
    "        learn_scheduler.step()\n",
    "        k+=1\n",
    "        print(f'the iter is {k}')"
   ]
  },
  {
   "cell_type": "markdown",
   "id": "6f0a6a32",
   "metadata": {},
   "source": [
    "# CD"
   ]
  },
  {
   "cell_type": "code",
   "execution_count": 18,
   "id": "60f24eb9",
   "metadata": {},
   "outputs": [],
   "source": [
    "\n",
    "#可调节参数，同上\n",
    "N=100\n",
    "T=80\n",
    "phi = 7\n",
    "eps= 0.002\n",
    "i=torch.arange(1,N+1)\n",
    "t =( eps**(1.0/phi)  +  (i-1)/(N-1)*(T**(1.0/phi) -  eps**(1.0/phi) )  )**(phi)\n",
    "t[0]=eps\n",
    "mu=0.99"
   ]
  },
  {
   "cell_type": "code",
   "execution_count": 3,
   "id": "14b711fc",
   "metadata": {},
   "outputs": [
    {
     "data": {
      "text/plain": [
       "<All keys matched successfully>"
      ]
     },
     "execution_count": 3,
     "metadata": {},
     "output_type": "execute_result"
    }
   ],
   "source": [
    "online_network = UNet(3,3)\n",
    "target_network = UNet(3,3)\n",
    "target_network.load_state_dict(online_network.state_dict())"
   ]
  },
  {
   "cell_type": "code",
   "execution_count": 12,
   "id": "2b0df191",
   "metadata": {},
   "outputs": [],
   "source": [
    "#可以按照自己的喜好替换成任意训练好的Unet\n",
    "score_network = UNet(3,3)\n",
    "score_network.eval()"
   ]
  },
  {
   "cell_type": "code",
   "execution_count": null,
   "id": "07690914",
   "metadata": {},
   "outputs": [],
   "source": [
    "#同CT\n",
    "pipe = Compose([transforms.Resize([224,224]),\n",
    "               transforms.ToTensor(),\n",
    "               ])\n",
    "dataset = ImageFolder(path,\n",
    "                      transform=pipe,)\n",
    "dataloader = DataLoader(dataset,\n",
    "                        batch_size=4,\n",
    "                        shuffle=True,\n",
    "                        pin_memory=True)"
   ]
  },
  {
   "cell_type": "code",
   "execution_count": 24,
   "id": "bdc71d07",
   "metadata": {},
   "outputs": [],
   "source": [
    "optimizer = torch.optim.Adam(online_network.parameters(),lr=0.001,weight_decay=0.99)\n",
    "learn_scheduler = torch.optim.lr_scheduler.CosineAnnealingLR(optimizer,T_max=10)"
   ]
  },
  {
   "cell_type": "code",
   "execution_count": null,
   "id": "7d64c090",
   "metadata": {},
   "outputs": [],
   "source": [
    "epoches = 12\n",
    "for epoch in range(epoches):\n",
    "    \n",
    "    for data in dataloader:\n",
    "        optimizer.zero_grad()\n",
    "        x,_ = data\n",
    "        z= torch.rand(*x.shape)\n",
    "        \n",
    "        bs = x.shape[0]\n",
    "        n = torch.randint(low=1,high=N,size=(bs,1,1,1))\n",
    "        \n",
    "        x_n_post = x+z * t[n+1]\n",
    "        x_n_pre = x_n_post - (t[n]-t[n+1]) *score_network(x_n_post,t[n+1])\n",
    "        \n",
    "        output = online_network(x_n_post,t[n+1])\n",
    "        with torch.no_grad():\n",
    "            \n",
    "            output_min = target_network(x_n_pre,t[n])\n",
    "        loss = torch.sum((output-output_min)**2)\n",
    "        loss.backward()\n",
    "        optimizer.step()\n",
    "        update(target_network,online_network,mu)\n",
    "        learn_scheduler.step()\n",
    "        print('finish one iter')"
   ]
  },
  {
   "cell_type": "markdown",
   "id": "5c17c85c",
   "metadata": {},
   "source": [
    "# Multistep Consistency Sampling"
   ]
  },
  {
   "cell_type": "code",
   "execution_count": 19,
   "id": "c8a93d02",
   "metadata": {},
   "outputs": [],
   "source": [
    "n_t=torch.arange(1,N)"
   ]
  },
  {
   "cell_type": "code",
   "execution_count": 29,
   "id": "86b1b145",
   "metadata": {},
   "outputs": [],
   "source": [
    "tao,_ = t[n_t].sort(descending=True)"
   ]
  },
  {
   "cell_type": "code",
   "execution_count": 30,
   "id": "210346d4",
   "metadata": {},
   "outputs": [
    {
     "data": {
      "text/plain": [
       "tensor([75.6912, 71.5828, 67.6671, 63.9365, 60.3835, 57.0012, 53.7825, 50.7209,\n",
       "        47.8100, 45.0434])"
      ]
     },
     "execution_count": 30,
     "metadata": {},
     "output_type": "execute_result"
    }
   ],
   "source": [
    "x_T = torch.rand(1,3,224,224)\n",
    "x= target_network(x,T)\n",
    "for i in range(N):\n",
    "    z =torch.rand(*x_T.shape)\n",
    "    x_tao_n = x + torch.sqrt(tao[i]**2-eps**2)* z\n",
    "    x = target_network(x_tao_n,t[n])\n",
    "    print('finish one iter')\n"
   ]
  },
  {
   "cell_type": "code",
   "execution_count": null,
   "id": "737b4447",
   "metadata": {},
   "outputs": [],
   "source": []
  },
  {
   "cell_type": "code",
   "execution_count": null,
   "id": "2f1c7381",
   "metadata": {},
   "outputs": [],
   "source": []
  },
  {
   "cell_type": "code",
   "execution_count": null,
   "id": "411d665a",
   "metadata": {},
   "outputs": [],
   "source": []
  },
  {
   "cell_type": "code",
   "execution_count": null,
   "id": "80659d20",
   "metadata": {},
   "outputs": [],
   "source": []
  },
  {
   "cell_type": "code",
   "execution_count": null,
   "id": "03a6e8d2",
   "metadata": {},
   "outputs": [],
   "source": []
  }
 ],
 "metadata": {
  "kernelspec": {
   "display_name": "Python 3 (ipykernel)",
   "language": "python",
   "name": "python3"
  },
  "language_info": {
   "codemirror_mode": {
    "name": "ipython",
    "version": 3
   },
   "file_extension": ".py",
   "mimetype": "text/x-python",
   "name": "python",
   "nbconvert_exporter": "python",
   "pygments_lexer": "ipython3",
   "version": "3.10.0"
  }
 },
 "nbformat": 4,
 "nbformat_minor": 5
}
